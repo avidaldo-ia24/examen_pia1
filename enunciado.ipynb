{
 "cells": [
  {
   "cell_type": "markdown",
   "metadata": {},
   "source": [
    "# Programación de Inteligencia Artificial - Examen Parcial 1\n",
    "18/02/2025"
   ]
  },
  {
   "cell_type": "markdown",
   "metadata": {},
   "source": [
    "## Normas de entrega y criterios generales de evaluación\n",
    "\n",
    "- Se valorará la limpieza y claridad del código, así como las justificaciones de las decisiones tomadas.\n",
    "- Sin embargo, no debe aparecer más código del necesario en el notebook, ni explicaciones que no sean pertinentes. Párrafos de los apuntes de clase no son pertinentes, código que no se ejecute o que no sirva para responder a las preguntas planteadas tampoco.\n",
    "\n",
    "- Cada ejercicio (1 y 2) deben presentarse en un notebook diferente. Finalmente se entregarán en el aula virtual un fichero comprimido en un archivo .zip con el siguiente formato \"Apellido1Nombre_PIA1.zip\" (por ejemplo: VidalAlejandro_PIA1.zip)\n",
    "\n",
    "El cumplimiento estricto de estas normas de entrega formará parte de la calificación del examen."
   ]
  },
  {
   "cell_type": "markdown",
   "metadata": {},
   "source": [
    "## Ejercicios"
   ]
  },
  {
   "cell_type": "markdown",
   "metadata": {
    "vscode": {
     "languageId": "plaintext"
    }
   },
   "source": [
    "Los dos ejercicios consisten en modificaciones de [la solución publicada del modelo de predicción de enfermedades de tiroides](./thyroid_original.ipynb)."
   ]
  },
  {
   "cell_type": "markdown",
   "metadata": {},
   "source": [
    "### Ejercicio 1\n",
    "\n",
    "Crea otro notebook donde las clases se simplifiquen a \"positive\" (enfermo, ya sea por hipertiroidismo como por hipotiroidismo) y \"negative\" en la preparación de datos e implementa un modelo de regresión logística para predecir si un paciente tiene una enfermedad de tiroides o no."
   ]
  },
  {
   "cell_type": "markdown",
   "metadata": {},
   "source": [
    "### Ejercicio 2\n",
    "\n",
    "Crea dos modificaciones del modelo de predicción de enfermedades de tiroides de la solución original y compáralas con el modelo original.\n",
    "\n",
    "- Uno manteniendo TBD como *feature* e imputando su mediana para valores faltantes.\n",
    "- Otro utilizando el imputador [GroupMedianImputer](./GroupMedianImputer.py) para imputar los valores faltantes numéricos con la mediana de cada sexo, en lugar de con la global.\n",
    "\n",
    "Compara los nuevos modelos con el original y guarda el mejor.\n",
    "\n",
    "- Consigue otro modelo que consiga mejorar el rendimiento, puedes cambiar el preprocesamiento o el algoritmo."
   ]
  }
 ],
 "metadata": {
  "kernelspec": {
   "display_name": "base",
   "language": "python",
   "name": "python3"
  },
  "language_info": {
   "codemirror_mode": {
    "name": "ipython",
    "version": 3
   },
   "file_extension": ".py",
   "mimetype": "text/x-python",
   "name": "python",
   "nbconvert_exporter": "python",
   "pygments_lexer": "ipython3",
   "version": "3.11.5"
  }
 },
 "nbformat": 4,
 "nbformat_minor": 2
}
